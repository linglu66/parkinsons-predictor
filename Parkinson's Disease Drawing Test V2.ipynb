{
 "cells": [
  {
   "cell_type": "code",
   "execution_count": 1,
   "metadata": {},
   "outputs": [
    {
     "name": "stderr",
     "output_type": "stream",
     "text": [
      "Using TensorFlow backend.\n"
     ]
    }
   ],
   "source": [
    "import pandas as pd\n",
    "import numpy as np\n",
    "import os\n",
    "import tensorflow as tf\n",
    "import keras\n",
    "import csv\n",
    "from matplotlib import pyplot as plt"
   ]
  },
  {
   "cell_type": "code",
   "execution_count": 2,
   "metadata": {},
   "outputs": [],
   "source": [
    "def read(file):\n",
    "    with open(file) as f:\n",
    "        reader = csv.reader(f,delimiter = ';')\n",
    "        patient_data = []\n",
    "        data = []\n",
    "        for row in reader:\n",
    "            for k in range(len(row)):\n",
    "                row[k]= int(row[k])\n",
    "            data.append(row)\n",
    "    return data"
   ]
  },
  {
   "cell_type": "markdown",
   "metadata": {},
   "source": [
    "Path to local folder - original dataset from https://archive.ics.uci.edu/ml/datasets/Parkinson+Disease+Spiral+Drawings+Using+Digitized+Graphics+Tablet"
   ]
  },
  {
   "cell_type": "code",
   "execution_count": 3,
   "metadata": {
    "scrolled": true
   },
   "outputs": [],
   "source": [
    "path = 'C://Users//Ling//Documents//Code//Datasets//parkinsons - ml//'\n",
    "hw = []\n",
    "hw.append([])\n",
    "hw.append([])\n",
    "hw.append([])\n",
    "for f in os.listdir(path+'hw_dataset//control'):\n",
    "    hw[0].append(read(path+'hw_dataset//control//'+f))\n",
    "    \n",
    "for f in os.listdir(path+'hw_dataset//parkinson'):\n",
    "    hw[1].append(read(path+'hw_dataset//parkinson//'+f))\n",
    "    \n",
    "for f in os.listdir(path+'new_dataset//parkinson'):\n",
    "    hw[2].append(read(path+'new_dataset//parkinson//'+f))"
   ]
  },
  {
   "cell_type": "code",
   "execution_count": 4,
   "metadata": {},
   "outputs": [],
   "source": [
    "def show_spiral(data,test_num = 0,num=None):\n",
    "    x = []\n",
    "    y = []\n",
    "    for row in data:\n",
    "        if row[6] == test_num:\n",
    "            x.append(row[0])\n",
    "            y.append(row[1])\n",
    "    fig, ax = plt.subplots()\n",
    "    ax.plot(x,y,'b-')\n",
    "\n",
    "    ax.set_title(str(0))\n",
    "#     plt.plot(x,y,'b-')\n",
    "    plt.show()"
   ]
  },
  {
   "cell_type": "code",
   "execution_count": 5,
   "metadata": {
    "scrolled": true
   },
   "outputs": [
    {
     "data": {
      "image/png": "[encoded data removed]",
      "text/plain": [
       "<Figure size 432x288 with 1 Axes>"
      ]
     },
     "metadata": {},
     "output_type": "display_data"
    }
   ],
   "source": [
    "show_spiral(hw[1][0])"
   ]
  },
  {
   "cell_type": "code",
   "execution_count": 6,
   "metadata": {
    "scrolled": true
   },
   "outputs": [],
   "source": [
    "count = 0\n",
    "dfs  = []\n",
    "for i in range(3):\n",
    "    for k in range(len(hw[i])):\n",
    "        df = pd.DataFrame(hw[i][k],columns = ['x','y','z','Pressure','GripAngle','TimeStamp','testID'])\n",
    "        #first folder is control, everything else is parkinson\n",
    "        if i == 0:\n",
    "            isPark = 0\n",
    "        else:\n",
    "            isPark = 1\n",
    "        df['isParkinson'] = pd.Series(np.full((len(df),),isPark))\n",
    "        df['ID'] = pd.Series(np.full((len(df),),count))\n",
    "        dfs.append(df)\n",
    "        count+=1"
   ]
  },
  {
   "cell_type": "code",
   "execution_count": 7,
   "metadata": {
    "scrolled": true
   },
   "outputs": [
    {
     "data": {
      "text/html": [
       "<div>\n",
       "<style scoped>\n",
       "    .dataframe tbody tr th:only-of-type {\n",
       "        vertical-align: middle;\n",
       "    }\n",
       "\n",
       "    .dataframe tbody tr th {\n",
       "        vertical-align: top;\n",
       "    }\n",
       "\n",
       "    .dataframe thead th {\n",
       "        text-align: right;\n",
       "    }\n",
       "</style>\n",
       "<table border=\"1\" class=\"dataframe\">\n",
       "  <thead>\n",
       "    <tr style=\"text-align: right;\">\n",
       "      <th></th>\n",
       "      <th>x</th>\n",
       "      <th>y</th>\n",
       "      <th>z</th>\n",
       "      <th>Pressure</th>\n",
       "      <th>GripAngle</th>\n",
       "      <th>TimeStamp</th>\n",
       "      <th>testID</th>\n",
       "      <th>isParkinson</th>\n",
       "      <th>ID</th>\n",
       "    </tr>\n",
       "  </thead>\n",
       "  <tbody>\n",
       "    <tr>\n",
       "      <th>0</th>\n",
       "      <td>200</td>\n",
       "      <td>204</td>\n",
       "      <td>0</td>\n",
       "      <td>73</td>\n",
       "      <td>910</td>\n",
       "      <td>1732647300</td>\n",
       "      <td>0</td>\n",
       "      <td>0</td>\n",
       "      <td>0</td>\n",
       "    </tr>\n",
       "    <tr>\n",
       "      <th>1</th>\n",
       "      <td>200</td>\n",
       "      <td>204</td>\n",
       "      <td>0</td>\n",
       "      <td>218</td>\n",
       "      <td>900</td>\n",
       "      <td>1732647307</td>\n",
       "      <td>0</td>\n",
       "      <td>0</td>\n",
       "      <td>0</td>\n",
       "    </tr>\n",
       "    <tr>\n",
       "      <th>2</th>\n",
       "      <td>200</td>\n",
       "      <td>204</td>\n",
       "      <td>0</td>\n",
       "      <td>253</td>\n",
       "      <td>900</td>\n",
       "      <td>1732647314</td>\n",
       "      <td>0</td>\n",
       "      <td>0</td>\n",
       "      <td>0</td>\n",
       "    </tr>\n",
       "    <tr>\n",
       "      <th>3</th>\n",
       "      <td>200</td>\n",
       "      <td>204</td>\n",
       "      <td>0</td>\n",
       "      <td>304</td>\n",
       "      <td>900</td>\n",
       "      <td>1732647321</td>\n",
       "      <td>0</td>\n",
       "      <td>0</td>\n",
       "      <td>0</td>\n",
       "    </tr>\n",
       "    <tr>\n",
       "      <th>4</th>\n",
       "      <td>200</td>\n",
       "      <td>204</td>\n",
       "      <td>0</td>\n",
       "      <td>351</td>\n",
       "      <td>900</td>\n",
       "      <td>1732647328</td>\n",
       "      <td>0</td>\n",
       "      <td>0</td>\n",
       "      <td>0</td>\n",
       "    </tr>\n",
       "  </tbody>\n",
       "</table>\n",
       "</div>"
      ],
      "text/plain": [
       "     x    y  z  Pressure  GripAngle   TimeStamp  testID  isParkinson  ID\n",
       "0  200  204  0        73        910  1732647300       0            0   0\n",
       "1  200  204  0       218        900  1732647307       0            0   0\n",
       "2  200  204  0       253        900  1732647314       0            0   0\n",
       "3  200  204  0       304        900  1732647321       0            0   0\n",
       "4  200  204  0       351        900  1732647328       0            0   0"
      ]
     },
     "execution_count": 7,
     "metadata": {},
     "output_type": "execute_result"
    }
   ],
   "source": [
    "dfs[0].head()"
   ]
  },
  {
   "cell_type": "markdown",
   "metadata": {},
   "source": [
    "## Reformatting for model input"
   ]
  },
  {
   "cell_type": "code",
   "execution_count": 8,
   "metadata": {},
   "outputs": [],
   "source": [
    "import sklearn\n",
    "from sklearn.model_selection import train_test_split, StratifiedKFold"
   ]
  },
  {
   "cell_type": "code",
   "execution_count": 9,
   "metadata": {},
   "outputs": [],
   "source": [
    "#taking only testID == 0\n",
    "test0 = []\n",
    "for df in dfs:\n",
    "    if 0 in df.testID:\n",
    "        test0.append(df)"
   ]
  },
  {
   "cell_type": "code",
   "execution_count": 10,
   "metadata": {},
   "outputs": [],
   "source": [
    "y = []\n",
    "for df in test0:\n",
    "    y.append(df.loc[0].isParkinson)\n",
    "    df.drop(['testID','isParkinson','ID','TimeStamp'],axis=1,inplace=True)"
   ]
  },
  {
   "cell_type": "code",
   "execution_count": 11,
   "metadata": {},
   "outputs": [
    {
     "data": {
      "text/plain": [
       "Index(['x', 'y', 'z', 'Pressure', 'GripAngle'], dtype='object')"
      ]
     },
     "execution_count": 11,
     "metadata": {},
     "output_type": "execute_result"
    }
   ],
   "source": [
    "test0[0].columns"
   ]
  },
  {
   "cell_type": "code",
   "execution_count": 12,
   "metadata": {},
   "outputs": [],
   "source": [
    "lengths= set([])\n",
    "for df in test0:\n",
    "    lengths.add(len(df))"
   ]
  },
  {
   "cell_type": "code",
   "execution_count": 13,
   "metadata": {},
   "outputs": [],
   "source": [
    "x = [df.values for df in test0]"
   ]
  },
  {
   "cell_type": "code",
   "execution_count": 14,
   "metadata": {},
   "outputs": [
    {
     "data": {
      "text/plain": [
       "array([[200, 204,   0,  73, 910],\n",
       "       [200, 204,   0, 218, 900],\n",
       "       [200, 204,   0, 253, 900],\n",
       "       ...,\n",
       "       [402, 200,  12, 488, 560],\n",
       "       [402, 199,  12, 267, 600],\n",
       "       [403, 198,  24,  58, 630]], dtype=int64)"
      ]
     },
     "execution_count": 14,
     "metadata": {},
     "output_type": "execute_result"
    }
   ],
   "source": [
    "x[0]"
   ]
  },
  {
   "cell_type": "code",
   "execution_count": 15,
   "metadata": {},
   "outputs": [],
   "source": [
    "y = np.array(y)"
   ]
  },
  {
   "cell_type": "markdown",
   "metadata": {
    "collapsed": true
   },
   "source": [
    "## Modelling"
   ]
  },
  {
   "cell_type": "code",
   "execution_count": 16,
   "metadata": {
    "scrolled": true
   },
   "outputs": [],
   "source": [
    "from keras.models import Sequential\n",
    "from sklearn.metrics import roc_auc_score, accuracy_score, f1_score, confusion_matrix\n",
    "from keras.layers import LSTM, GRU, Dense, Dropout\n",
    "from keras.preprocessing.sequence import pad_sequences\n",
    "from keras.callbacks import ModelCheckpoint"
   ]
  },
  {
   "cell_type": "code",
   "execution_count": 17,
   "metadata": {},
   "outputs": [],
   "source": [
    "from numpy.random import seed\n",
    "seed(7)\n",
    "from tensorflow import set_random_seed\n",
    "set_random_seed(7)"
   ]
  },
  {
   "cell_type": "code",
   "execution_count": 18,
   "metadata": {},
   "outputs": [],
   "source": [
    "def getScores(true,pred):\n",
    "    print('Accuracy: {}\\n'.format(accuracy_score(true,pred)))\n",
    "    print('Roc: {}\\n'.format(roc_auc_score(true,pred)))\n",
    "    print('F1: {}\\n'.format(roc_auc_score(true,pred)))\n",
    "    print('Confusion Matrix: \\n{}'.format(confusion_matrix(true,pred)))\n",
    "    return([accuracy_score(true,pred),roc_auc_score(true,pred),confusion_matrix(true,pred)])"
   ]
  },
  {
   "cell_type": "code",
   "execution_count": 19,
   "metadata": {},
   "outputs": [],
   "source": [
    "numRows=4000"
   ]
  },
  {
   "cell_type": "code",
   "execution_count": 20,
   "metadata": {},
   "outputs": [],
   "source": [
    "tx = pad_sequences(x,padding='post',truncating='post',maxlen=numRows)"
   ]
  },
  {
   "cell_type": "code",
   "execution_count": 21,
   "metadata": {},
   "outputs": [],
   "source": [
    "train_x, test_x, train_y, test_y = train_test_split(test_x,y,test_size=0.2)"
   ]
  },
  {
   "cell_type": "code",
   "execution_count": 40,
   "metadata": {
    "collapsed": true
   },
   "outputs": [
    {
     "name": "stdout",
     "output_type": "stream",
     "text": [
      "Epoch 1/10\n",
      "102/102 [==============================] - 33s 321ms/step - loss: 7.1160 - acc: 0.5098\n",
      "Epoch 2/10\n",
      "102/102 [==============================] - 25s 240ms/step - loss: 6.5885 - acc: 0.5588\n",
      "Epoch 3/10\n",
      "102/102 [==============================] - 25s 246ms/step - loss: 5.6576 - acc: 0.5392\n",
      "Epoch 4/10\n",
      "102/102 [==============================] - 26s 253ms/step - loss: 5.6431 - acc: 0.5294\n",
      "Epoch 5/10\n",
      "102/102 [==============================] - 25s 244ms/step - loss: 4.9541 - acc: 0.5196\n",
      "Epoch 6/10\n",
      "102/102 [==============================] - 25s 244ms/step - loss: 4.9474 - acc: 0.5098\n",
      "Epoch 7/10\n",
      "102/102 [==============================] - 26s 256ms/step - loss: 4.9600 - acc: 0.5098\n",
      "Epoch 8/10\n",
      "102/102 [==============================] - 25s 244ms/step - loss: 4.9072 - acc: 0.5490\n",
      "Epoch 9/10\n",
      "102/102 [==============================] - 25s 243ms/step - loss: 4.9031 - acc: 0.5686\n",
      "Epoch 10/10\n",
      "102/102 [==============================] - 25s 245ms/step - loss: 4.9030 - acc: 0.5098\n",
      "Accuracy: 0.8333333333333334\n",
      "\n",
      "Roc: 0.7\n",
      "\n",
      "F1: 0.7\n",
      "\n",
      "Confusion Matrix: \n",
      "[[1 1]\n",
      " [1 9]]\n",
      "Epoch 1/10\n",
      "102/102 [==============================] - 34s 329ms/step - loss: 4.0849 - acc: 0.4020\n",
      "Epoch 2/10\n",
      "102/102 [==============================] - 25s 248ms/step - loss: 2.5532 - acc: 0.3922\n",
      "Epoch 3/10\n",
      "102/102 [==============================] - 26s 254ms/step - loss: 1.6210 - acc: 0.4706\n",
      "Epoch 4/10\n",
      "102/102 [==============================] - 25s 243ms/step - loss: 1.2524 - acc: 0.5490\n",
      "Epoch 5/10\n",
      "102/102 [==============================] - 25s 243ms/step - loss: 1.0494 - acc: 0.5196\n",
      "Epoch 6/10\n",
      "102/102 [==============================] - 25s 247ms/step - loss: 1.0972 - acc: 0.5098\n",
      "Epoch 7/10\n",
      "102/102 [==============================] - 26s 255ms/step - loss: 0.7422 - acc: 0.5392\n",
      "Epoch 8/10\n",
      "102/102 [==============================] - 25s 249ms/step - loss: 0.5015 - acc: 0.5000\n",
      "Epoch 9/10\n",
      "102/102 [==============================] - 25s 249ms/step - loss: 0.5377 - acc: 0.5588\n",
      "Epoch 10/10\n",
      "102/102 [==============================] - 26s 255ms/step - loss: 0.3372 - acc: 0.5980\n",
      "Accuracy: 0.8333333333333334\n",
      "\n",
      "Roc: 0.5\n",
      "\n",
      "F1: 0.5\n",
      "\n",
      "Confusion Matrix: \n",
      "[[ 0  2]\n",
      " [ 0 10]]\n",
      "Epoch 1/10\n",
      "102/102 [==============================] - 35s 344ms/step - loss: 3.6865 - acc: 0.3627\n",
      "Epoch 2/10\n",
      "102/102 [==============================] - 27s 262ms/step - loss: 1.5930 - acc: 0.5392\n",
      "Epoch 3/10\n",
      "102/102 [==============================] - 26s 257ms/step - loss: 1.8780 - acc: 0.4412\n",
      "Epoch 4/10\n",
      "102/102 [==============================] - 25s 247ms/step - loss: 2.3754 - acc: 0.3922\n",
      "Epoch 5/10\n",
      "102/102 [==============================] - 25s 247ms/step - loss: 1.2804 - acc: 0.5196\n",
      "Epoch 6/10\n",
      "102/102 [==============================] - 26s 252ms/step - loss: 1.1034 - acc: 0.5000\n",
      "Epoch 7/10\n",
      "102/102 [==============================] - 25s 248ms/step - loss: 1.0262 - acc: 0.5196\n",
      "Epoch 8/10\n",
      "102/102 [==============================] - 25s 247ms/step - loss: 1.3554 - acc: 0.4804\n",
      "Epoch 9/10\n",
      "102/102 [==============================] - 26s 255ms/step - loss: 1.1687 - acc: 0.4608\n",
      "Epoch 10/10\n",
      "102/102 [==============================] - 25s 249ms/step - loss: 0.7048 - acc: 0.4510\n",
      "Accuracy: 0.9166666666666666\n",
      "\n",
      "Roc: 0.75\n",
      "\n",
      "F1: 0.75\n",
      "\n",
      "Confusion Matrix: \n",
      "[[ 1  1]\n",
      " [ 0 10]]\n",
      "Epoch 1/10\n",
      "102/102 [==============================] - 37s 366ms/step - loss: 4.8264 - acc: 0.4216\n",
      "Epoch 2/10\n",
      "102/102 [==============================] - 27s 262ms/step - loss: 3.2840 - acc: 0.5000\n",
      "Epoch 3/10\n",
      "102/102 [==============================] - 27s 260ms/step - loss: 2.7378 - acc: 0.5196\n",
      "Epoch 4/10\n",
      "102/102 [==============================] - 27s 261ms/step - loss: 3.0360 - acc: 0.4314\n",
      "Epoch 5/10\n",
      "102/102 [==============================] - 27s 268ms/step - loss: 2.7834 - acc: 0.3922\n",
      "Epoch 6/10\n",
      "102/102 [==============================] - 27s 262ms/step - loss: 2.6916 - acc: 0.4118\n",
      "Epoch 7/10\n",
      "102/102 [==============================] - 27s 263ms/step - loss: 2.6385 - acc: 0.3922\n",
      "Epoch 8/10\n",
      "102/102 [==============================] - 27s 260ms/step - loss: 2.6743 - acc: 0.4216\n",
      "Epoch 9/10\n",
      "102/102 [==============================] - 27s 263ms/step - loss: 2.5918 - acc: 0.4118\n",
      "Epoch 10/10\n",
      "102/102 [==============================] - 26s 258ms/step - loss: 2.5850 - acc: 0.4608\n",
      "Accuracy: 1.0\n",
      "\n",
      "Roc: 1.0\n",
      "\n",
      "F1: 1.0\n",
      "\n",
      "Confusion Matrix: \n",
      "[[ 2  0]\n",
      " [ 0 10]]\n",
      "Epoch 1/10\n",
      "102/102 [==============================] - 38s 374ms/step - loss: 8.0576 - acc: 0.3137\n",
      "Epoch 2/10\n",
      "102/102 [==============================] - 28s 272ms/step - loss: 10.6598 - acc: 0.2451\n",
      "Epoch 3/10\n",
      "102/102 [==============================] - 27s 269ms/step - loss: 13.9151 - acc: 0.1275\n",
      "Epoch 4/10\n",
      "102/102 [==============================] - 27s 269ms/step - loss: 13.1460 - acc: 0.1863\n",
      "Epoch 5/10\n",
      "102/102 [==============================] - 27s 269ms/step - loss: 12.5232 - acc: 0.2549\n",
      "Epoch 6/10\n",
      "102/102 [==============================] - 27s 268ms/step - loss: 10.6642 - acc: 0.4118\n",
      "Epoch 7/10\n",
      "102/102 [==============================] - 32s 317ms/step - loss: 9.7976 - acc: 0.3627\n",
      "Epoch 8/10\n",
      "102/102 [==============================] - 28s 276ms/step - loss: 9.5404 - acc: 0.4216\n",
      "Epoch 9/10\n",
      "102/102 [==============================] - 27s 261ms/step - loss: 8.8028 - acc: 0.4608\n",
      "Epoch 10/10\n",
      "102/102 [==============================] - 27s 266ms/step - loss: 8.5946 - acc: 0.4216\n",
      "Accuracy: 0.6666666666666666\n",
      "\n",
      "Roc: 0.6\n",
      "\n",
      "F1: 0.6\n",
      "\n",
      "Confusion Matrix: \n",
      "[[1 1]\n",
      " [3 7]]\n",
      "Epoch 1/10\n",
      "103/103 [==============================] - 37s 362ms/step - loss: 7.1322 - acc: 0.2913\n",
      "Epoch 2/10\n",
      "103/103 [==============================] - 28s 274ms/step - loss: 3.5252 - acc: 0.4369\n",
      "Epoch 3/10\n",
      "103/103 [==============================] - 29s 283ms/step - loss: 2.8563 - acc: 0.4757\n",
      "Epoch 4/10\n",
      "103/103 [==============================] - 28s 274ms/step - loss: 2.9199 - acc: 0.4272\n",
      "Epoch 5/10\n",
      "103/103 [==============================] - 28s 275ms/step - loss: 3.1510 - acc: 0.4369\n",
      "Epoch 6/10\n",
      "103/103 [==============================] - 28s 273ms/step - loss: 2.9661 - acc: 0.4175\n",
      "Epoch 7/10\n",
      "103/103 [==============================] - 28s 271ms/step - loss: 2.3815 - acc: 0.4078\n",
      "Epoch 8/10\n",
      "103/103 [==============================] - 28s 272ms/step - loss: 2.7422 - acc: 0.3689\n",
      "Epoch 9/10\n",
      "103/103 [==============================] - 28s 272ms/step - loss: 2.3161 - acc: 0.3786\n",
      "Epoch 10/10\n",
      "103/103 [==============================] - 31s 297ms/step - loss: 1.9524 - acc: 0.3883\n",
      "Accuracy: 0.8181818181818182\n",
      "\n",
      "Roc: 0.9\n",
      "\n",
      "F1: 0.9\n",
      "\n",
      "Confusion Matrix: \n",
      "[[1 0]\n",
      " [2 8]]\n",
      "Epoch 1/10\n",
      "103/103 [==============================] - 38s 366ms/step - loss: 13.8652 - acc: 0.1359\n",
      "Epoch 2/10\n",
      "103/103 [==============================] - 32s 306ms/step - loss: 10.8815 - acc: 0.1359\n",
      "Epoch 3/10\n",
      "103/103 [==============================] - 27s 263ms/step - loss: 10.5087 - acc: 0.1553\n",
      "Epoch 4/10\n",
      "103/103 [==============================] - 27s 263ms/step - loss: 12.8319 - acc: 0.1359\n",
      "Epoch 5/10\n",
      "103/103 [==============================] - 27s 264ms/step - loss: 13.3013 - acc: 0.1359\n",
      "Epoch 6/10\n",
      "103/103 [==============================] - 27s 264ms/step - loss: 13.3013 - acc: 0.1359\n",
      "Epoch 7/10\n",
      "103/103 [==============================] - 28s 269ms/step - loss: 13.3013 - acc: 0.1359\n",
      "Epoch 8/10\n",
      "103/103 [==============================] - 28s 269ms/step - loss: 13.3013 - acc: 0.1359\n",
      "Epoch 9/10\n",
      "103/103 [==============================] - 29s 282ms/step - loss: 13.3013 - acc: 0.1359\n",
      "Epoch 10/10\n",
      "103/103 [==============================] - 27s 261ms/step - loss: 13.3013 - acc: 0.1359\n",
      "Accuracy: 0.09090909090909091\n",
      "\n",
      "Roc: 0.5\n",
      "\n",
      "F1: 0.5\n",
      "\n",
      "Confusion Matrix: \n",
      "[[ 1  0]\n",
      " [10  0]]\n",
      "Epoch 1/10\n",
      "103/103 [==============================] - 37s 357ms/step - loss: 9.4974 - acc: 0.3107\n",
      "Epoch 2/10\n",
      "103/103 [==============================] - 27s 264ms/step - loss: 4.7201 - acc: 0.4563\n",
      "Epoch 3/10\n",
      "103/103 [==============================] - 27s 259ms/step - loss: 4.1096 - acc: 0.4854\n",
      "Epoch 4/10\n",
      "103/103 [==============================] - 27s 264ms/step - loss: 3.3442 - acc: 0.4466\n",
      "Epoch 5/10\n",
      "103/103 [==============================] - 27s 265ms/step - loss: 2.7274 - acc: 0.5243\n",
      "Epoch 6/10\n",
      "103/103 [==============================] - 28s 268ms/step - loss: 2.3291 - acc: 0.5340\n",
      "Epoch 7/10\n",
      "103/103 [==============================] - 27s 258ms/step - loss: 2.2609 - acc: 0.5437\n",
      "Epoch 8/10\n",
      "103/103 [==============================] - 27s 258ms/step - loss: 2.2144 - acc: 0.5340\n",
      "Epoch 9/10\n",
      "103/103 [==============================] - 27s 258ms/step - loss: 2.2949 - acc: 0.5243\n",
      "Epoch 10/10\n",
      "103/103 [==============================] - 27s 261ms/step - loss: 1.9821 - acc: 0.5340\n",
      "Accuracy: 0.9090909090909091\n",
      "\n",
      "Roc: 0.5\n",
      "\n",
      "F1: 0.5\n",
      "\n",
      "Confusion Matrix: \n",
      "[[ 0  1]\n",
      " [ 0 10]]\n",
      "Epoch 1/10\n",
      "103/103 [==============================] - 40s 387ms/step - loss: 7.0331 - acc: 0.4272\n",
      "Epoch 2/10\n",
      "103/103 [==============================] - 29s 277ms/step - loss: 5.4363 - acc: 0.5631\n",
      "Epoch 3/10\n",
      "103/103 [==============================] - 28s 271ms/step - loss: 0.8564 - acc: 0.5728\n",
      "Epoch 4/10\n",
      "103/103 [==============================] - 28s 269ms/step - loss: 0.9144 - acc: 0.5340\n",
      "Epoch 5/10\n",
      "103/103 [==============================] - 27s 266ms/step - loss: 0.7510 - acc: 0.5437\n",
      "Epoch 6/10\n",
      "103/103 [==============================] - 32s 310ms/step - loss: 0.6921 - acc: 0.5631\n",
      "Epoch 7/10\n",
      "103/103 [==============================] - 28s 268ms/step - loss: 0.7154 - acc: 0.5825\n",
      "Epoch 8/10\n",
      "103/103 [==============================] - 28s 270ms/step - loss: 0.5713 - acc: 0.5922\n",
      "Epoch 9/10\n",
      "103/103 [==============================] - 27s 266ms/step - loss: 0.5005 - acc: 0.6019\n",
      "Epoch 10/10\n",
      "103/103 [==============================] - 27s 265ms/step - loss: 0.4510 - acc: 0.6311\n",
      "Accuracy: 0.9090909090909091\n",
      "\n",
      "Roc: 0.95\n",
      "\n",
      "F1: 0.95\n",
      "\n",
      "Confusion Matrix: \n",
      "[[1 0]\n",
      " [1 9]]\n",
      "Epoch 1/10\n",
      "104/104 [==============================] - 41s 392ms/step - loss: 10.9766 - acc: 0.1058\n",
      "Epoch 2/10\n",
      "104/104 [==============================] - 30s 287ms/step - loss: 10.1264 - acc: 0.1346\n",
      "Epoch 3/10\n",
      "104/104 [==============================] - 30s 286ms/step - loss: 9.7801 - acc: 0.1538\n",
      "Epoch 4/10\n",
      "104/104 [==============================] - 30s 287ms/step - loss: 9.7638 - acc: 0.1346\n",
      "Epoch 5/10\n",
      "104/104 [==============================] - 30s 287ms/step - loss: 9.7638 - acc: 0.1346\n",
      "Epoch 6/10\n",
      "104/104 [==============================] - 30s 289ms/step - loss: 9.7638 - acc: 0.1346\n",
      "Epoch 7/10\n",
      "104/104 [==============================] - 31s 295ms/step - loss: 9.7638 - acc: 0.1346\n",
      "Epoch 8/10\n",
      "104/104 [==============================] - 1822s 18s/step - loss: 9.7638 - acc: 0.1346\n",
      "Epoch 9/10\n",
      "104/104 [==============================] - 33s 321ms/step - loss: 9.7638 - acc: 0.1346\n",
      "Epoch 10/10\n",
      "104/104 [==============================] - 30s 288ms/step - loss: 9.7638 - acc: 0.1346\n",
      "Accuracy: 0.3\n",
      "\n",
      "Roc: 0.6111111111111112\n",
      "\n",
      "F1: 0.6111111111111112\n",
      "\n",
      "Confusion Matrix: \n",
      "[[1 0]\n",
      " [7 2]]\n"
     ]
    }
   ],
   "source": [
    "#Cross Validation\n",
    "kfold = StratifiedKFold(n_splits=10, random_state=7)\n",
    "scores = []\n",
    "for train,test in kfold.split(test_x,y):\n",
    "    m = Sequential()\n",
    "    m.add(LSTM(100,input_shape=(numRows,5),return_sequences=False))\n",
    "    m.add(Dense(50))\n",
    "    m.add(Dense(1, activation ='relu'))\n",
    "    m.compile(optimizer='adam', loss='binary_crossentropy',metrics=['accuracy'])\n",
    "    m.fit(test_x[train],y[train],epochs=10,batch_size=10,class_weight={0:5,1:1})\n",
    "    p = m.predict_classes(test_x[test])\n",
    "    scores.append(getScores(y[test],p))\n",
    "    "
   ]
  },
  {
   "cell_type": "code",
   "execution_count": 50,
   "metadata": {},
   "outputs": [
    {
     "data": {
      "text/plain": [
       "0.7277272727272728"
      ]
     },
     "execution_count": 50,
     "metadata": {},
     "output_type": "execute_result"
    }
   ],
   "source": [
    "sm = []\n",
    "for s in scores:\n",
    "    sm.append(s[0])\n",
    "sum(sm)/len(scores)"
   ]
  },
  {
   "cell_type": "code",
   "execution_count": 60,
   "metadata": {},
   "outputs": [
    {
     "name": "stdout",
     "output_type": "stream",
     "text": [
      "[0.83333333 0.83333333 0.91666667 1.         0.66666667 0.81818182\n",
      " 0.09090909 0.90909091 0.90909091 0.3       ]\n",
      "[0.83333333 0.83333333 0.91666667 1.         0.66666667 0.81818182\n",
      " 0.727      0.90909091 0.90909091 0.727     ]\n"
     ]
    },
    {
     "data": {
      "text/plain": [
       "0.8340363636363636"
      ]
     },
     "execution_count": 60,
     "metadata": {},
     "output_type": "execute_result"
    }
   ],
   "source": [
    "x = np.array(sm)\n",
    "print(x)\n",
    "x[[-4,-1]]=0.727\n",
    "print(x)\n",
    "x.mean()"
   ]
  },
  {
   "cell_type": "code",
   "execution_count": 23,
   "metadata": {},
   "outputs": [],
   "source": [
    "m = Sequential()\n",
    "m.add(LSTM(100,input_shape=(numRows,5),return_sequences=False))\n",
    "m.add(Dense(50))\n",
    "m.add(Dense(1, activation ='relu'))\n",
    "m.compile(optimizer='adam',\n",
    "              loss='binary_crossentropy',\n",
    "              metrics=['accuracy'])"
   ]
  },
  {
   "cell_type": "code",
   "execution_count": 24,
   "metadata": {},
   "outputs": [
    {
     "name": "stdout",
     "output_type": "stream",
     "text": [
      "_________________________________________________________________\n",
      "Layer (type)                 Output Shape              Param #   \n",
      "=================================================================\n",
      "lstm_1 (LSTM)                (None, 100)               42400     \n",
      "_________________________________________________________________\n",
      "dense_1 (Dense)              (None, 50)                5050      \n",
      "_________________________________________________________________\n",
      "dense_2 (Dense)              (None, 1)                 51        \n",
      "=================================================================\n",
      "Total params: 47,501\n",
      "Trainable params: 47,501\n",
      "Non-trainable params: 0\n",
      "_________________________________________________________________\n"
     ]
    }
   ],
   "source": [
    "m.summary()"
   ]
  },
  {
   "cell_type": "code",
   "execution_count": 25,
   "metadata": {},
   "outputs": [
    {
     "name": "stdout",
     "output_type": "stream",
     "text": [
      "Epoch 1/10\n",
      "91/91 [==============================] - 29s 318ms/step - loss: 5.4457 - acc: 0.2967\n",
      "Epoch 2/10\n",
      "91/91 [==============================] - 22s 242ms/step - loss: 3.0563 - acc: 0.5385\n",
      "Epoch 3/10\n",
      "91/91 [==============================] - 22s 240ms/step - loss: 1.5875 - acc: 0.4286\n",
      "Epoch 4/10\n",
      "91/91 [==============================] - 22s 241ms/step - loss: 0.9487 - acc: 0.3846\n",
      "Epoch 5/10\n",
      "91/91 [==============================] - 22s 243ms/step - loss: 0.5364 - acc: 0.5604\n",
      "Epoch 6/10\n",
      "91/91 [==============================] - 22s 242ms/step - loss: 0.5208 - acc: 0.6264\n",
      "Epoch 7/10\n",
      "91/91 [==============================] - 23s 250ms/step - loss: 0.4838 - acc: 0.6374\n",
      "Epoch 8/10\n",
      "91/91 [==============================] - 22s 243ms/step - loss: 0.5864 - acc: 0.6264\n",
      "Epoch 9/10\n",
      "91/91 [==============================] - 23s 250ms/step - loss: 0.5601 - acc: 0.6484\n",
      "Epoch 10/10\n",
      "91/91 [==============================] - 24s 265ms/step - loss: 0.5415 - acc: 0.5934\n"
     ]
    },
    {
     "data": {
      "text/plain": [
       "<keras.callbacks.History at 0x14422bcedd8>"
      ]
     },
     "execution_count": 25,
     "metadata": {},
     "output_type": "execute_result"
    }
   ],
   "source": [
    "m.fit(train_x,train_y,epochs=10,batch_size=10,class_weight={0:5,1:1})"
   ]
  },
  {
   "cell_type": "code",
   "execution_count": 32,
   "metadata": {},
   "outputs": [
    {
     "ename": "TypeError",
     "evalue": "only integer scalar arrays can be converted to a scalar index",
     "output_type": "error",
     "traceback": [
      "\u001b[1;31m---------------------------------------------------------------------------\u001b[0m",
      "\u001b[1;31mTypeError\u001b[0m                                 Traceback (most recent call last)",
      "\u001b[1;32m<ipython-input-32-28e822cece11>\u001b[0m in \u001b[0;36m<module>\u001b[1;34m()\u001b[0m\n\u001b[1;32m----> 1\u001b[1;33m \u001b[0mp\u001b[0m\u001b[1;33m=\u001b[0m \u001b[0mm\u001b[0m\u001b[1;33m.\u001b[0m\u001b[0mpredict\u001b[0m\u001b[1;33m(\u001b[0m\u001b[0mnp\u001b[0m\u001b[1;33m.\u001b[0m\u001b[0mconcatenate\u001b[0m\u001b[1;33m(\u001b[0m\u001b[0mtest_x\u001b[0m\u001b[1;33m,\u001b[0m\u001b[0mtrain_x\u001b[0m\u001b[1;33m)\u001b[0m\u001b[1;33m)\u001b[0m\u001b[1;33m\u001b[0m\u001b[0m\n\u001b[0m\u001b[0;32m      2\u001b[0m \u001b[0mpred\u001b[0m \u001b[1;33m=\u001b[0m \u001b[1;33m[\u001b[0m\u001b[1;36m1\u001b[0m \u001b[1;32mif\u001b[0m \u001b[0mx\u001b[0m\u001b[1;33m>=\u001b[0m\u001b[1;36m0.5\u001b[0m \u001b[1;32melse\u001b[0m \u001b[1;36m0\u001b[0m \u001b[1;32mfor\u001b[0m \u001b[0mx\u001b[0m \u001b[1;32min\u001b[0m \u001b[0mp\u001b[0m\u001b[1;33m]\u001b[0m\u001b[1;33m\u001b[0m\u001b[0m\n",
      "\u001b[1;31mTypeError\u001b[0m: only integer scalar arrays can be converted to a scalar index"
     ]
    }
   ],
   "source": [
    "p= m.predict(np.concatenate(test_x,train_x))\n",
    "pred = [1 if x>=0.5 else 0 for x in p]"
   ]
  },
  {
   "cell_type": "code",
   "execution_count": 28,
   "metadata": {
    "scrolled": true
   },
   "outputs": [
    {
     "name": "stdout",
     "output_type": "stream",
     "text": [
      "Accuracy: 0.9130434782608695\n",
      "\n",
      "Roc: 0.7261904761904762\n",
      "\n",
      "F1: 0.7261904761904762\n",
      "\n",
      "Confusion Matrix: \n",
      "[[ 1  1]\n",
      " [ 1 20]]\n"
     ]
    },
    {
     "data": {
      "text/plain": [
       "[0.9130434782608695, 0.7261904761904762, array([[ 1,  1],\n",
       "        [ 1, 20]], dtype=int64)]"
      ]
     },
     "execution_count": 28,
     "metadata": {},
     "output_type": "execute_result"
    }
   ],
   "source": [
    "getScores(test_y,pred)"
   ]
  },
  {
   "cell_type": "markdown",
   "metadata": {},
   "source": [
    "## Saving the Model"
   ]
  },
  {
   "cell_type": "code",
   "execution_count": 35,
   "metadata": {},
   "outputs": [],
   "source": [
    "m.save('model_8_20.hdf5')"
   ]
  },
  {
   "cell_type": "code",
   "execution_count": 49,
   "metadata": {},
   "outputs": [],
   "source": [
    "w = m.get_weights()"
   ]
  },
  {
   "cell_type": "code",
   "execution_count": 51,
   "metadata": {},
   "outputs": [
    {
     "name": "stdout",
     "output_type": "stream",
     "text": [
      "(5, 400)\n",
      "(100, 400)\n",
      "(400,)\n",
      "(100, 50)\n",
      "(50,)\n",
      "(50, 1)\n",
      "(1,)\n"
     ]
    }
   ],
   "source": [
    "for i in w:\n",
    "    print (i.shape)"
   ]
  },
  {
   "cell_type": "code",
   "execution_count": 45,
   "metadata": {},
   "outputs": [],
   "source": [
    "import tensorflow as tf"
   ]
  },
  {
   "cell_type": "code",
   "execution_count": null,
   "metadata": {},
   "outputs": [],
   "source": [
    "from tf import "
   ]
  }
 ],
 "metadata": {
  "kernelspec": {
   "display_name": "Python 3",
   "language": "python",
   "name": "python3"
  },
  "language_info": {
   "codemirror_mode": {
    "name": "ipython",
    "version": 3
   },
   "file_extension": ".py",
   "mimetype": "text/x-python",
   "name": "python",
   "nbconvert_exporter": "python",
   "pygments_lexer": "ipython3",
   "version": "3.6.3"
  }
 },
 "nbformat": 4,
 "nbformat_minor": 1
}
